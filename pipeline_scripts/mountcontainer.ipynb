{
 "cells": [
  {
   "cell_type": "code",
   "execution_count": null,
   "metadata": {},
   "outputs": [],
   "source": [
    "storage_account_name = dbutils.secrets.get(scope=\"azure-creds-scope\", key=\"storage_account_name\")\n",
    "app_id = dbutils.secrets.get(scope=\"azure-creds-scope\", key=\"app_id\")\n",
    "tenant_id = dbutils.secrets.get(scope=\"azure-creds-scope\", key=\"tenant_id\")\n",
    "client_secret = dbutils.secrets.get(scope=\"azure-creds-scope\", key=\"client_secret\")\n",
    "\n",
    "    # Define the configuration for mounting\n",
    "configs = {\n",
    "    \"fs.azure.account.auth.type\": \"OAuth\",\n",
    "    \"fs.azure.account.oauth.provider.type\": \"org.apache.hadoop.fs.azurebfs.oauth2.ClientCredsTokenProvider\",\n",
    "    \"fs.azure.account.oauth2.client.id\": app_id,\n",
    "    \"fs.azure.account.oauth2.client.secret\": client_secret,\n",
    "    \"fs.azure.account.oauth2.client.endpoint\": f\"https://login.microsoftonline.com/{tenant_id}/oauth2/token\"\n",
    "}\n",
    "\n",
    "    # Check if the mount point already exists\n",
    "if not any(mount.mountPoint == '/mnt/dataprocessing' for mount in dbutils.fs.mounts()):\n",
    "    dbutils.fs.mount(\n",
    "        source=f\"abfss://dataprocessing@{storage_account_name}.dfs.core.windows.net/\",\n",
    "        mount_point=\"/mnt/dataprocessing\",\n",
    "        extra_configs=configs\n",
    "    )\n",
    "    print(\"Container mounted successfully!\")\n",
    "else:\n",
    "    print(\"Already mounted!\")"
   ]
  }
 ],
 "metadata": {
  "language_info": {
   "name": "python"
  }
 },
 "nbformat": 4,
 "nbformat_minor": 2
}
